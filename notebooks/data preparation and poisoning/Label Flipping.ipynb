{
 "cells": [
  {
   "cell_type": "code",
   "execution_count": 1,
   "id": "7ab895f2",
   "metadata": {},
   "outputs": [],
   "source": [
    "import numpy as np"
   ]
  },
  {
   "cell_type": "code",
   "execution_count": 2,
   "id": "8322757f",
   "metadata": {},
   "outputs": [],
   "source": [
    "data = np.load('trashNet.npz')\n",
    "x_train, x_test, y_train, y_test = data['x_train'], data['x_test'], data['y_train'],  data['y_test']"
   ]
  },
  {
   "cell_type": "code",
   "execution_count": 4,
   "id": "5c189f7a",
   "metadata": {},
   "outputs": [
    {
     "data": {
      "text/plain": [
       "array([0, 1, 2, 3, 4, 5])"
      ]
     },
     "execution_count": 4,
     "metadata": {},
     "output_type": "execute_result"
    }
   ],
   "source": [
    "label_choices = np.unique(y_train)\n",
    "label_choices"
   ]
  },
  {
   "cell_type": "code",
   "execution_count": 8,
   "id": "4347cd52",
   "metadata": {},
   "outputs": [
    {
     "data": {
      "text/plain": [
       "[1, 1, 1, 3, 0, 2, 1, 4, 1, 3, 0, 3, 0, 4, 2, 5, 1, 1, 0, 2]"
      ]
     },
     "execution_count": 8,
     "metadata": {},
     "output_type": "execute_result"
    }
   ],
   "source": [
    "random_labels = []\n",
    "for i in range(20):\n",
    "    random_labels.append(np.random.choice(label_choices))\n",
    "random_labels"
   ]
  },
  {
   "cell_type": "code",
   "execution_count": null,
   "id": "0c0516fd",
   "metadata": {},
   "outputs": [],
   "source": [
    "for poison_rate in poison_rates:\n",
    "    print(f\"Poisoning {poison_rate}% of data\")\n",
    "    data = np.load('trashNet.npz')\n",
    "    x_train, x_test, y_train, y_test = data['x_train'], data['x_test'], data['y_train'],  data['y_test']\n",
    "    percents = poison_rate/100\n",
    "    poisoned_count = int(x_train.shape[0]*percents)\n",
    "    random_index = np.random.choice(x_train.shape[0], poisoned_count, replace=False)\n",
    "    for index in tqdm(random_index):\n",
    "        y_train[index] = np.random.choice(label_choices)\n",
    "    print(f\"Done Poisoning {poison_rate}% images\")\n",
    "    np.savez_compressed(f'trashNet-poisoned_{poison_rate}', x_train=x_train, x_test=x_test, y_train=y_train, y_test=y_test)"
   ]
  }
 ],
 "metadata": {
  "kernelspec": {
   "display_name": "Python 3 (ipykernel)",
   "language": "python",
   "name": "python3"
  },
  "language_info": {
   "codemirror_mode": {
    "name": "ipython",
    "version": 3
   },
   "file_extension": ".py",
   "mimetype": "text/x-python",
   "name": "python",
   "nbconvert_exporter": "python",
   "pygments_lexer": "ipython3",
   "version": "3.8.10"
  }
 },
 "nbformat": 4,
 "nbformat_minor": 5
}
